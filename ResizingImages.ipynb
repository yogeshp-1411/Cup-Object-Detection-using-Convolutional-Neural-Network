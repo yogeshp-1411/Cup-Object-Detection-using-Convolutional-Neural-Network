{
 "cells": [
  {
   "cell_type": "markdown",
   "metadata": {},
   "source": [
    "# Resizing of Image and saving BNW resized image"
   ]
  },
  {
   "cell_type": "code",
   "execution_count": 16,
   "metadata": {},
   "outputs": [],
   "source": [
    "import cv2\n",
    "import tensorflow\n",
    "\n",
    "def prepare(filepath):\n",
    "    img_size = 70\n",
    "    bnw_img = cv2.imread(filepath, cv2.IMREAD_GRAYSCALE)\n",
    "    img_resize = cv2.resize(bnw_img, (img_size, img_size))\n",
    "    return img_resize\n",
    "\n",
    "for i in range (1, 10):\n",
    "    cv2.imwrite((\"obj\"+str(i)+\".jpg\"),prepare(\"obj\"+str(i)+\".jpg\"))"
   ]
  },
  {
   "cell_type": "code",
   "execution_count": null,
   "metadata": {},
   "outputs": [],
   "source": []
  }
 ],
 "metadata": {
  "kernelspec": {
   "display_name": "Python 3",
   "language": "python",
   "name": "python3"
  },
  "language_info": {
   "codemirror_mode": {
    "name": "ipython",
    "version": 3
   },
   "file_extension": ".py",
   "mimetype": "text/x-python",
   "name": "python",
   "nbconvert_exporter": "python",
   "pygments_lexer": "ipython3",
   "version": "3.7.7"
  }
 },
 "nbformat": 4,
 "nbformat_minor": 4
}
