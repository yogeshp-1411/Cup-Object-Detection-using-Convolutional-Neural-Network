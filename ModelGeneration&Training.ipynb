{
 "cells": [
  {
   "cell_type": "markdown",
   "metadata": {},
   "source": [
    "# Creating a model"
   ]
  },
  {
   "cell_type": "code",
   "execution_count": 97,
   "metadata": {},
   "outputs": [],
   "source": [
    "import tensorflow\n",
    "from tensorflow import keras\n",
    "from tensorflow.keras.models import Sequential\n",
    "from tensorflow.keras.layers import Conv2D, Activation, MaxPool2D, Flatten\n",
    "\n",
    "input_shape = (-1, 70, 70, 1)\n",
    "model = Sequential([\n",
    "    Conv2D(32, (1,1), padding = \"valid\", activation='relu', input_shape = input_shape[1:]),\n",
    "    MaxPool2D((2,2), (2,2)),    \n",
    "    Flatten(),\n",
    "    Dense(units=32, activation = 'relu'),\n",
    "    Dense(units=1, activation = 'softmax')\n",
    "])"
   ]
  },
  {
   "cell_type": "code",
   "execution_count": 98,
   "metadata": {},
   "outputs": [
    {
     "name": "stdout",
     "output_type": "stream",
     "text": [
      "Model: \"sequential_7\"\n",
      "_________________________________________________________________\n",
      "Layer (type)                 Output Shape              Param #   \n",
      "=================================================================\n",
      "conv2d_10 (Conv2D)           (None, 70, 70, 32)        64        \n",
      "_________________________________________________________________\n",
      "max_pooling2d_8 (MaxPooling2 (None, 35, 35, 32)        0         \n",
      "_________________________________________________________________\n",
      "flatten_7 (Flatten)          (None, 39200)             0         \n",
      "_________________________________________________________________\n",
      "dense_4 (Dense)              (None, 32)                1254432   \n",
      "_________________________________________________________________\n",
      "dense_5 (Dense)              (None, 1)                 33        \n",
      "=================================================================\n",
      "Total params: 1,254,529\n",
      "Trainable params: 1,254,529\n",
      "Non-trainable params: 0\n",
      "_________________________________________________________________\n"
     ]
    }
   ],
   "source": [
    "model.summary()"
   ]
  },
  {
   "cell_type": "markdown",
   "metadata": {},
   "source": [
    "# Creating custom dataset"
   ]
  },
  {
   "cell_type": "markdown",
   "metadata": {},
   "source": [
    "# Training Dataset"
   ]
  },
  {
   "cell_type": "code",
   "execution_count": 116,
   "metadata": {},
   "outputs": [],
   "source": [
    "import numpy as np\n",
    "import matplotlib.pyplot as plt\n",
    "import tqdm as tqdm\n",
    "import os\n",
    "import cv2\n",
    "\n",
    "DATADIR = \"C:/Users/Yogesh/CupDetector\"\n",
    "CATEGORIES = [\"Others\", \"Cup\"]\n",
    "IMG_SIZE = 70\n",
    "training_data = []\n",
    "\n",
    "def create_training_data():\n",
    "    for category in CATEGORIES:\n",
    "        path = os.path.join(DATADIR, category)\n",
    "        class_num =  CATEGORIES.index(category)\n",
    "\n",
    "        for img in os.listdir(path):\n",
    "            img_array = cv2.imread(os.path.join(path, img), cv2.IMREAD_GRAYSCALE)\n",
    "            new_array = cv2.resize(img_array, (IMG_SIZE, IMG_SIZE))\n",
    "            training_data.append([new_array, class_num])\n",
    "        \n",
    "create_training_data()"
   ]
  },
  {
   "cell_type": "code",
   "execution_count": 117,
   "metadata": {},
   "outputs": [
    {
     "name": "stdout",
     "output_type": "stream",
     "text": [
      "26\n"
     ]
    }
   ],
   "source": [
    "print(len(training_data))"
   ]
  },
  {
   "cell_type": "code",
   "execution_count": 42,
   "metadata": {},
   "outputs": [
    {
     "name": "stdout",
     "output_type": "stream",
     "text": [
      "[array([[255, 255, 255, ..., 255, 255, 255],\n",
      "       [255, 255, 255, ..., 255, 255, 255],\n",
      "       [255, 255, 255, ..., 255, 255, 255],\n",
      "       ...,\n",
      "       [197, 213, 220, ..., 255, 255, 255],\n",
      "       [189, 196, 194, ..., 255, 255, 255],\n",
      "       [255, 254, 255, ..., 255, 255, 255]], dtype=uint8), 1]\n"
     ]
    }
   ],
   "source": [
    "print(training_data[10])"
   ]
  },
  {
   "cell_type": "code",
   "execution_count": 118,
   "metadata": {},
   "outputs": [],
   "source": [
    "import random\n",
    "\n",
    "random.shuffle(training_data)"
   ]
  },
  {
   "cell_type": "code",
   "execution_count": 119,
   "metadata": {},
   "outputs": [
    {
     "name": "stdout",
     "output_type": "stream",
     "text": [
      "0\n",
      "1\n",
      "1\n",
      "1\n",
      "0\n",
      "1\n",
      "0\n",
      "0\n",
      "1\n",
      "1\n"
     ]
    }
   ],
   "source": [
    "for sample in training_data[:10]:\n",
    "    print(sample[1])"
   ]
  },
  {
   "cell_type": "code",
   "execution_count": 120,
   "metadata": {},
   "outputs": [
    {
     "name": "stdout",
     "output_type": "stream",
     "text": [
      "[[[[199]\n",
      "   [203]\n",
      "   [201]\n",
      "   ...\n",
      "   [198]\n",
      "   [193]\n",
      "   [199]]\n",
      "\n",
      "  [[199]\n",
      "   [201]\n",
      "   [202]\n",
      "   ...\n",
      "   [191]\n",
      "   [201]\n",
      "   [197]]\n",
      "\n",
      "  [[201]\n",
      "   [203]\n",
      "   [202]\n",
      "   ...\n",
      "   [200]\n",
      "   [200]\n",
      "   [200]]\n",
      "\n",
      "  ...\n",
      "\n",
      "  [[174]\n",
      "   [178]\n",
      "   [201]\n",
      "   ...\n",
      "   [198]\n",
      "   [172]\n",
      "   [200]]\n",
      "\n",
      "  [[186]\n",
      "   [189]\n",
      "   [195]\n",
      "   ...\n",
      "   [183]\n",
      "   [185]\n",
      "   [196]]\n",
      "\n",
      "  [[186]\n",
      "   [192]\n",
      "   [189]\n",
      "   ...\n",
      "   [190]\n",
      "   [187]\n",
      "   [188]]]]\n"
     ]
    }
   ],
   "source": [
    "train_img = []\n",
    "train_labels = []\n",
    "\n",
    "for feature, label in training_data:\n",
    "    train_img.append(feature)\n",
    "    train_labels.append(label)\n",
    "\n",
    "print(train_img[0].reshape(-1, IMG_SIZE, IMG_SIZE, 1))\n",
    "\n",
    "train_img = np.array(train_img).reshape(-1, IMG_SIZE, IMG_SIZE, 1)\n",
    "train_labels = np.array(train_labels)"
   ]
  },
  {
   "cell_type": "code",
   "execution_count": 121,
   "metadata": {},
   "outputs": [],
   "source": [
    "import pickle\n",
    "\n",
    "pickle_out = open(\"train_img.pickle\", \"wb\")\n",
    "pickle.dump(train_img, pickle_out)\n",
    "pickle_out.close()\n",
    "\n",
    "pickle_out = open(\"train_labels.pickle\", \"wb\")\n",
    "pickle.dump(train_labels, pickle_out)\n",
    "pickle_out.close()"
   ]
  },
  {
   "cell_type": "code",
   "execution_count": 122,
   "metadata": {},
   "outputs": [],
   "source": [
    "#while loading the dataset:\n",
    "pickle_in = open(\"train_img.pickle\", \"rb\")\n",
    "train_img = pickle.load(pickle_in)\n",
    "\n",
    "pickle_in = open(\"train_labels.pickle\", \"rb\")\n",
    "train_labels = pickle.load(pickle_in)"
   ]
  },
  {
   "cell_type": "markdown",
   "metadata": {},
   "source": [
    "# Test Dataset"
   ]
  },
  {
   "cell_type": "code",
   "execution_count": 127,
   "metadata": {},
   "outputs": [],
   "source": [
    "import numpy as np\n",
    "import matplotlib.pyplot as plt\n",
    "import tqdm as tqdm\n",
    "import os\n",
    "import cv2\n",
    "\n",
    "DATADIR = \"C:/Users/Yogesh/CupDetector\"\n",
    "CATEGORIES = [\"Others\", \"Cup\"]\n",
    "IMG_SIZE = 70\n",
    "test_data = []\n",
    "\n",
    "def create_test_data():\n",
    "    for category in CATEGORIES:\n",
    "        path = os.path.join(DATADIR, category)\n",
    "        class_num =  CATEGORIES.index(category)\n",
    "\n",
    "        for img in os.listdir(path):\n",
    "            img_array = cv2.imread(os.path.join(path, img), cv2.IMREAD_GRAYSCALE)\n",
    "            new_array = cv2.resize(img_array, (IMG_SIZE, IMG_SIZE))\n",
    "            test_data.append([new_array, class_num])\n",
    "        \n",
    "create_test_data()"
   ]
  },
  {
   "cell_type": "code",
   "execution_count": 128,
   "metadata": {},
   "outputs": [
    {
     "name": "stdout",
     "output_type": "stream",
     "text": [
      "26\n"
     ]
    }
   ],
   "source": [
    "print(len(test_data))"
   ]
  },
  {
   "cell_type": "code",
   "execution_count": 129,
   "metadata": {},
   "outputs": [
    {
     "ename": "IndexError",
     "evalue": "list index out of range",
     "output_type": "error",
     "traceback": [
      "\u001b[1;31m---------------------------------------------------------------------------\u001b[0m",
      "\u001b[1;31mIndexError\u001b[0m                                Traceback (most recent call last)",
      "\u001b[1;32m<ipython-input-129-03266500238c>\u001b[0m in \u001b[0;36m<module>\u001b[1;34m\u001b[0m\n\u001b[1;32m----> 1\u001b[1;33m \u001b[0mprint\u001b[0m\u001b[1;33m(\u001b[0m\u001b[0mtest_data\u001b[0m\u001b[1;33m[\u001b[0m\u001b[1;36m60\u001b[0m\u001b[1;33m]\u001b[0m\u001b[1;33m)\u001b[0m\u001b[1;33m\u001b[0m\u001b[1;33m\u001b[0m\u001b[0m\n\u001b[0m",
      "\u001b[1;31mIndexError\u001b[0m: list index out of range"
     ]
    }
   ],
   "source": [
    "print(test_data[60])"
   ]
  },
  {
   "cell_type": "code",
   "execution_count": 130,
   "metadata": {},
   "outputs": [],
   "source": [
    "import random\n",
    "\n",
    "random.shuffle(training_data)"
   ]
  },
  {
   "cell_type": "code",
   "execution_count": 131,
   "metadata": {},
   "outputs": [
    {
     "name": "stdout",
     "output_type": "stream",
     "text": [
      "0\n",
      "1\n",
      "1\n",
      "0\n",
      "0\n",
      "0\n",
      "1\n",
      "0\n",
      "1\n",
      "1\n"
     ]
    }
   ],
   "source": [
    "for sample in training_data[:10]:\n",
    "    print(sample[1])"
   ]
  },
  {
   "cell_type": "code",
   "execution_count": 132,
   "metadata": {},
   "outputs": [
    {
     "name": "stdout",
     "output_type": "stream",
     "text": [
      "[[[[255]\n",
      "   [255]\n",
      "   [255]\n",
      "   ...\n",
      "   [255]\n",
      "   [255]\n",
      "   [255]]\n",
      "\n",
      "  [[255]\n",
      "   [255]\n",
      "   [255]\n",
      "   ...\n",
      "   [255]\n",
      "   [255]\n",
      "   [255]]\n",
      "\n",
      "  [[255]\n",
      "   [255]\n",
      "   [255]\n",
      "   ...\n",
      "   [255]\n",
      "   [255]\n",
      "   [255]]\n",
      "\n",
      "  ...\n",
      "\n",
      "  [[255]\n",
      "   [255]\n",
      "   [255]\n",
      "   ...\n",
      "   [255]\n",
      "   [255]\n",
      "   [255]]\n",
      "\n",
      "  [[255]\n",
      "   [255]\n",
      "   [255]\n",
      "   ...\n",
      "   [255]\n",
      "   [255]\n",
      "   [255]]\n",
      "\n",
      "  [[255]\n",
      "   [255]\n",
      "   [255]\n",
      "   ...\n",
      "   [255]\n",
      "   [255]\n",
      "   [255]]]]\n"
     ]
    }
   ],
   "source": [
    "test_img = []\n",
    "test_labels = []\n",
    "\n",
    "for feature, label in test_data:\n",
    "    test_img.append(feature)\n",
    "    test_labels.append(label)\n",
    "\n",
    "print(test_img[0].reshape(-1, IMG_SIZE, IMG_SIZE, 1))\n",
    "\n",
    "test_img = np.array(test_img).reshape(-1, IMG_SIZE, IMG_SIZE, 1)\n",
    "test_labels = np.array(test_labels)"
   ]
  },
  {
   "cell_type": "code",
   "execution_count": 133,
   "metadata": {},
   "outputs": [],
   "source": [
    "import pickle\n",
    "\n",
    "pickle_out = open(\"test_img.pickle\", \"wb\")\n",
    "pickle.dump(test_img, pickle_out)\n",
    "pickle_out.close()\n",
    "\n",
    "pickle_out = open(\"test_labels.pickle\", \"wb\")\n",
    "pickle.dump(test_labels, pickle_out)\n",
    "pickle_out.close()"
   ]
  },
  {
   "cell_type": "code",
   "execution_count": 134,
   "metadata": {},
   "outputs": [],
   "source": [
    "#while loading the dataset:\n",
    "pickle_in = open(\"test_img.pickle\", \"rb\")\n",
    "test_img = pickle.load(pickle_in)\n",
    "\n",
    "pickle_in = open(\"test_labels.pickle\", \"rb\")\n",
    "test_labels = pickle.load(pickle_in)"
   ]
  },
  {
   "cell_type": "markdown",
   "metadata": {},
   "source": [
    "# Training the model"
   ]
  },
  {
   "cell_type": "code",
   "execution_count": 135,
   "metadata": {},
   "outputs": [],
   "source": [
    "from tensorflow.keras.optimizers import Adam\n",
    "from tensorflow.keras.metrics import categorical_crossentropy\n",
    "\n",
    "model.compile(optimizer= Adam(learning_rate = 0.0001), loss = 'binary_crossentropy', metrics = ['accuracy'])"
   ]
  },
  {
   "cell_type": "code",
   "execution_count": 163,
   "metadata": {},
   "outputs": [
    {
     "name": "stdout",
     "output_type": "stream",
     "text": [
      "Train on 5 samples, validate on 21 samples\n",
      "Epoch 1/10\n",
      "5/5 [==============================] - 0s 15ms/sample - loss: 6.0997 - accuracy: 0.6000 - val_loss: 5.0831 - val_accuracy: 0.6667\n",
      "Epoch 2/10\n",
      "5/5 [==============================] - 0s 14ms/sample - loss: 6.0997 - accuracy: 0.6000 - val_loss: 5.0831 - val_accuracy: 0.6667\n",
      "Epoch 3/10\n",
      "5/5 [==============================] - 0s 15ms/sample - loss: 6.0997 - accuracy: 0.6000 - val_loss: 5.0831 - val_accuracy: 0.6667\n",
      "Epoch 4/10\n",
      "5/5 [==============================] - 0s 15ms/sample - loss: 6.0997 - accuracy: 0.6000 - val_loss: 5.0831 - val_accuracy: 0.6667\n",
      "Epoch 5/10\n",
      "5/5 [==============================] - 0s 14ms/sample - loss: 6.0997 - accuracy: 0.6000 - val_loss: 5.0831 - val_accuracy: 0.6667\n",
      "Epoch 6/10\n",
      "5/5 [==============================] - 0s 12ms/sample - loss: 6.0997 - accuracy: 0.6000 - val_loss: 5.0831 - val_accuracy: 0.6667\n",
      "Epoch 7/10\n",
      "5/5 [==============================] - 0s 14ms/sample - loss: 6.0997 - accuracy: 0.6000 - val_loss: 5.0831 - val_accuracy: 0.6667\n",
      "Epoch 8/10\n",
      "5/5 [==============================] - 0s 13ms/sample - loss: 6.0997 - accuracy: 0.6000 - val_loss: 5.0831 - val_accuracy: 0.6667\n",
      "Epoch 9/10\n",
      "5/5 [==============================] - 0s 13ms/sample - loss: 6.0997 - accuracy: 0.6000 - val_loss: 5.0831 - val_accuracy: 0.6667\n",
      "Epoch 10/10\n",
      "5/5 [==============================] - 0s 13ms/sample - loss: 6.0997 - accuracy: 0.6000 - val_loss: 5.0831 - val_accuracy: 0.6667\n"
     ]
    },
    {
     "data": {
      "text/plain": [
       "<tensorflow.python.keras.callbacks.History at 0x2566ee3f3c8>"
      ]
     },
     "execution_count": 163,
     "metadata": {},
     "output_type": "execute_result"
    }
   ],
   "source": [
    "train_img = train_img/255.0\n",
    "model.fit(train_img, train_labels, steps_per_epoch = 1, epochs = 10, validation_split = 0.8)"
   ]
  },
  {
   "cell_type": "code",
   "execution_count": 137,
   "metadata": {},
   "outputs": [
    {
     "name": "stdout",
     "output_type": "stream",
     "text": [
      "26/26 [==============================] - 0s 17ms/sample - loss: 5.2786 - accuracy: 0.6538\n",
      "Test loss: 5.278582572937012 - Test Accuracy: 0.6538461446762085\n"
     ]
    }
   ],
   "source": [
    "test_loss, test_acc = model.evaluate(test_img, test_labels)\n",
    "print(\"Test loss: {0} - Test Accuracy: {1}\".format(test_loss, test_acc))"
   ]
  },
  {
   "cell_type": "markdown",
   "metadata": {},
   "source": [
    "# Predicting the data"
   ]
  },
  {
   "cell_type": "code",
   "execution_count": 87,
   "metadata": {},
   "outputs": [
    {
     "name": "stdout",
     "output_type": "stream",
     "text": [
      "[[1.]]\n"
     ]
    }
   ],
   "source": [
    "import cv2\n",
    "import tensorflow as tf\n",
    "\n",
    "def prepare(filepath):\n",
    "    IMG_SIZE = 70  \n",
    "    img_array = cv2.imread(filepath, cv2.IMREAD_GRAYSCALE)\n",
    "    new_array = cv2.resize(img_array, (IMG_SIZE, IMG_SIZE))\n",
    "    return new_array.reshape(-1, IMG_SIZE, IMG_SIZE, 1)\n",
    "\n",
    "prediction = model.predict(prepare(\"C:/Users/Yogesh/CupDetector/Cup/cup3.jpg\"))\n",
    "\n",
    "print(prediction)"
   ]
  },
  {
   "cell_type": "code",
   "execution_count": 146,
   "metadata": {},
   "outputs": [
    {
     "name": "stdout",
     "output_type": "stream",
     "text": [
      "Cup detected\n"
     ]
    }
   ],
   "source": [
    "import cv2\n",
    "import tensorflow as tf\n",
    "\n",
    "def prepare(filepath):\n",
    "    IMG_SIZE = 70  \n",
    "    img_array = cv2.imread(filepath, cv2.IMREAD_GRAYSCALE)\n",
    "    new_array = cv2.resize(img_array, (IMG_SIZE, IMG_SIZE))\n",
    "    return new_array.reshape(-1, IMG_SIZE, IMG_SIZE, 1)\n",
    "\n",
    "prediction = model.predict(prepare(\"C:/Users/Yogesh/CupDetector/Others/obj3.jpg\"))\n",
    "\n",
    "if prediction == 0:\n",
    "    print(\"Cup not detected\")\n",
    "else:\n",
    "    print(\"Cup detected\")"
   ]
  },
  {
   "cell_type": "code",
   "execution_count": 145,
   "metadata": {},
   "outputs": [
    {
     "data": {
      "image/png": "[encoded data removed]",
      "text/plain": [
       "<Figure size 432x288 with 1 Axes>"
      ]
     },
     "metadata": {
      "needs_background": "light"
     },
     "output_type": "display_data"
    },
    {
     "name": "stdout",
     "output_type": "stream",
     "text": [
      "0\n"
     ]
    }
   ],
   "source": [
    "import matplotlib.pyplot as plt\n",
    "abc = 0\n",
    "plt.imshow(test_img[abc], cmap = 'gray')\n",
    "plt.show()\n",
    "print(test_labels[abc])"
   ]
  },
  {
   "cell_type": "code",
   "execution_count": null,
   "metadata": {},
   "outputs": [],
   "source": []
  }
 ],
 "metadata": {
  "kernelspec": {
   "display_name": "Python 3",
   "language": "python",
   "name": "python3"
  },
  "language_info": {
   "codemirror_mode": {
    "name": "ipython",
    "version": 3
   },
   "file_extension": ".py",
   "mimetype": "text/x-python",
   "name": "python",
   "nbconvert_exporter": "python",
   "pygments_lexer": "ipython3",
   "version": "3.7.7"
  }
 },
 "nbformat": 4,
 "nbformat_minor": 4
}
